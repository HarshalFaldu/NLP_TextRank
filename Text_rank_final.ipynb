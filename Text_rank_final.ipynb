{
  "nbformat": 4,
  "nbformat_minor": 0,
  "metadata": {
    "colab": {
      "name": "Text-rank.ipynb",
      "provenance": [],
      "collapsed_sections": [],
      "authorship_tag": "ABX9TyNZcgN0AmZEJZ9dAsaeqh+V",
      "include_colab_link": true
    },
    "kernelspec": {
      "name": "python3",
      "display_name": "Python 3"
    }
  },
  "cells": [
    {
      "cell_type": "markdown",
      "metadata": {
        "id": "view-in-github",
        "colab_type": "text"
      },
      "source": [
        "<a href=\"https://colab.research.google.com/github/HarshalFaldu/NLP_TextRank/blob/master/Text_rank_final.ipynb\" target=\"_parent\"><img src=\"https://colab.research.google.com/assets/colab-badge.svg\" alt=\"Open In Colab\"/></a>"
      ]
    },
    {
      "cell_type": "code",
      "metadata": {
        "id": "9x7o4eNZfgaM",
        "colab_type": "code",
        "colab": {
          "base_uri": "https://localhost:8080/",
          "height": 68
        },
        "outputId": "36ceb583-4d1e-4248-968c-10b0bf568df7"
      },
      "source": [
        "import nltk\n",
        "nltk.download('stopwords')"
      ],
      "execution_count": 1,
      "outputs": [
        {
          "output_type": "stream",
          "text": [
            "[nltk_data] Downloading package stopwords to /root/nltk_data...\n",
            "[nltk_data]   Unzipping corpora/stopwords.zip.\n"
          ],
          "name": "stdout"
        },
        {
          "output_type": "execute_result",
          "data": {
            "text/plain": [
              "True"
            ]
          },
          "metadata": {
            "tags": []
          },
          "execution_count": 1
        }
      ]
    },
    {
      "cell_type": "code",
      "metadata": {
        "id": "dC3EY-bRZLZR",
        "colab_type": "code",
        "colab": {
          "base_uri": "https://localhost:8080/",
          "height": 68
        },
        "outputId": "5dccab9b-0ac0-49fb-86ab-1c723c11920b"
      },
      "source": [
        "nltk.download('punkt')"
      ],
      "execution_count": 36,
      "outputs": [
        {
          "output_type": "stream",
          "text": [
            "[nltk_data] Downloading package punkt to /root/nltk_data...\n",
            "[nltk_data]   Unzipping tokenizers/punkt.zip.\n"
          ],
          "name": "stdout"
        },
        {
          "output_type": "execute_result",
          "data": {
            "text/plain": [
              "True"
            ]
          },
          "metadata": {
            "tags": []
          },
          "execution_count": 36
        }
      ]
    },
    {
      "cell_type": "code",
      "metadata": {
        "id": "vsI11KO-eqoM",
        "colab_type": "code",
        "colab": {}
      },
      "source": [
        "from nltk.corpus import stopwords\n",
        "from nltk.cluster.util import cosine_distance\n",
        "import numpy as np\n",
        "import networkx as nx"
      ],
      "execution_count": 2,
      "outputs": []
    },
    {
      "cell_type": "code",
      "metadata": {
        "id": "_79hTWuaXSTk",
        "colab_type": "code",
        "colab": {}
      },
      "source": [
        "def read_article(file_name):\n",
        "    file = open(file_name, \"r\")\n",
        "    filedata = file.readlines()\n",
        "    article = filedata[0].split(\". \")\n",
        "    sentences = []\n",
        "\n",
        "    for sentence in article:\n",
        "        sentences.append(sentence.replace(\"[^a-zA-Z]\", \" \").split(\" \"))\n",
        "    sentences.pop() \n",
        "    \n",
        "    return sentences"
      ],
      "execution_count": 83,
      "outputs": []
    },
    {
      "cell_type": "code",
      "metadata": {
        "id": "PxcKly-CbRcD",
        "colab_type": "code",
        "colab": {}
      },
      "source": [
        "def sentence_similarity(sent1, sent2, stopwords=None):\n",
        "    if stopwords is None:\n",
        "        stopwords = []\n",
        " \n",
        "    sent1 = [w.lower() for w in sent1]\n",
        "    sent2 = [w.lower() for w in sent2]\n",
        " \n",
        "    all_words = list(set(sent1 + sent2))\n",
        " \n",
        "    vector1 = [0] * len(all_words)\n",
        "    vector2 = [0] * len(all_words)\n",
        " \n",
        "    # build the vector for the first sentence\n",
        "    for w in sent1:\n",
        "        if w in stopwords:\n",
        "            continue\n",
        "        vector1[all_words.index(w)] += 1\n",
        " \n",
        "    # build the vector for the second sentence\n",
        "    for w in sent2:\n",
        "        if w in stopwords:\n",
        "            continue\n",
        "        vector2[all_words.index(w)] += 1\n",
        " \n",
        "    return 1 - cosine_distance(vector1, vector2)"
      ],
      "execution_count": 84,
      "outputs": []
    },
    {
      "cell_type": "code",
      "metadata": {
        "id": "oIgeFeGJbWHX",
        "colab_type": "code",
        "colab": {}
      },
      "source": [
        "def build_similarity_matrix(sentences, stop_words):\n",
        "    # Create an empty similarity matrix\n",
        "    similarity_matrix = np.zeros((len(sentences), len(sentences)))\n",
        " \n",
        "    for idx1 in range(len(sentences)):\n",
        "        for idx2 in range(len(sentences)):\n",
        "            if idx1 == idx2: #ignore if both are same sentences\n",
        "                continue \n",
        "            similarity_matrix[idx1][idx2] = sentence_similarity(sentences[idx1], sentences[idx2], stop_words)\n",
        "\n",
        "    return similarity_matrix"
      ],
      "execution_count": 85,
      "outputs": []
    },
    {
      "cell_type": "code",
      "metadata": {
        "id": "mK845Lf9cS5p",
        "colab_type": "code",
        "colab": {}
      },
      "source": [
        "def generate_summary(file_name, top_n=5):\n",
        "    stop_words = stopwords.words('english')\n",
        "    summarize_text = []\n",
        "\n",
        "    # Step 1 - Read text anc split it\n",
        "    sentences =  read_article(file_name)\n",
        "\n",
        "    # Step 2 - Generate Similary Martix across sentences\n",
        "    sentence_similarity_martix = build_similarity_matrix(sentences, stop_words)\n",
        "\n",
        "    # Step 3 - Rank sentences in similarity martix\n",
        "    sentence_similarity_graph = nx.from_numpy_array(sentence_similarity_martix)\n",
        "    scores = nx.pagerank(sentence_similarity_graph)\n",
        "\n",
        "    # Step 4 - Sort the rank and pick top sentences\n",
        "    ranked_sentence = sorted(((scores[i],s) for i,s in enumerate(sentences)), reverse=True)    \n",
        "    #print(\"Indexes of top ranked_sentence order are \", ranked_sentence)    \n",
        "\n",
        "    for i in range(top_n):\n",
        "      summarize_text.append(\" \".join(ranked_sentence[i][1]))\n",
        "\n",
        "    # Step 5 - Offcourse, output the summarize texr\n",
        "    print(\"Summarize Text: \\n\", \". \".join(summarize_text))"
      ],
      "execution_count": 93,
      "outputs": []
    },
    {
      "cell_type": "code",
      "metadata": {
        "id": "aed89LnxRgm7",
        "colab_type": "code",
        "colab": {
          "base_uri": "https://localhost:8080/",
          "height": 547
        },
        "outputId": "e35db1bd-83ce-40b8-92e9-3300ad9bb7ca"
      },
      "source": [
        "sentences1 = []\n",
        "\n",
        "for i in range(15):\n",
        "  b = 'a'+str(i+1)+'.txt'\n",
        "  generate_summary(\"text_rank_dataset/\"+b, 2)\n",
        "  #sentences1.append(a)"
      ],
      "execution_count": 94,
      "outputs": [
        {
          "output_type": "stream",
          "text": [
            "Summarize Text: \n",
            " I think everyone just thinks because we're tennis players we should be the greatest of friends. I think just because you're in the same sport doesn't mean that you have to be friends with everyone just because you're categorized, you're a tennis player, so you're going to get along with tennis players\n",
            "Summarize Text: \n",
            " Federer dominated the 20th-ranked Medvedev and had his first match-point chance to break serve again at 5-1. Copil upset expectations of a Federer final against Alexander Zverev in a 6-3, 6-7 (6), 6-4 win over the fifth-ranked German in the earlier semifinal\n",
            "Summarize Text: \n",
            " ?They only left me three days to decide,? Federer said. Federer said earlier this month in Shanghai in that his chances of playing the Davis Cup were all but non-existent\n",
            "Summarize Text: \n",
            " Kei Nishikori will try to end his long losing streak in ATP finals and Kevin Anderson will go for his second title of the year at the Erste Bank Open on Sunday. Nishikori leads Anderson 4-2 on career matchups, but the South African won their only previous meeting this year\n",
            "Summarize Text: \n",
            " ?I think there is a really nice environment and a great atmosphere, especially between some of the veteran players helping some of the younger players out. ?Not always, but I really feel like in the mid-2000 years there was a huge shift of the attitudes of the top players and being more friendly and being more giving, and a lot of that had to do with players like Roger coming up\n",
            "Summarize Text: \n",
            " Nadal could then play defending champion Jack Sock in the third round before a potential quarter-final with either Borna Coric or Dominic Thiem. The Paris Masters draw has been made and Nadal will start his campaign on Tuesday or Wednesday against either Fernando Verdasco or Jeremy Chardy\n",
            "Summarize Text: \n",
            " The end of the season is finally in sight, and with so many players defending?or losing?huge chunks of points in Singapore, Zhuhai and London, podcast co-hosts Nina Pantic and Irina Falconi discuss the art of defending points (02:14). Let's also not forget his two Grand Slam doubles triumphs this season\n",
            "Summarize Text: \n",
            " ?I was on a nice trajectorythen,? Reid recalled.?If I hadn?t got sick, I think I could have started pushing towards the second week at the slams and then who knows.? Duringa comeback attempt some five years later, Reid added Bernard Tomic and 2018 US Open Federer slayer John Millman to his list of career scalps. ?Full effort he wouldn?t fail,? Reid said of Kyrgios\n",
            "Summarize Text: \n",
            " I hope that won't happen,\" the Swiss star was quoted as saying by Brazilian media recently.Two-time Wimbledon winner Petra Kvitova said she too has no desire to play a Slam with without spectators.\"I would like to play another Grand Slam, but if it's like this, I'd rather cancel them,\" Kvitova said.\"Playing without fans who are our engine doesn't look nice to me and the Grand Slam doesn't deserve it.\" As far as the rescheduled Roland Garros in September and October is concerned, Jean-Francois Vilotte, the director-general of the French Tennis Federation (FFT), told AFP: \"The aim is that there will be spectators.\"\"But we will have the capacity to organise Roland Garros whatever the option decided, including behind closed doors.\"Money matters? There has been no prize money to play for over the best part of three months but that hasn't stopped it being discussed.The ATP and WTA tours, the International Tennis Federation and the four Grand Slam tournaments -- the Australian Open, Roland Garros, Wimbledon and the US Open backed a fund worth more than $6 million to support low-ranked players hardest hit by the coronavirus pandemic.World number one Novak Djokovic had already said that he, Roger Federer and Rafael Nadal -- the sport's biggest earners with over $100 million each banked in prize money alone -- were also willing to help.However, world number three Dominic Thiem was not keen on giving money to lower-ranked players.\"Quite honestly I have to say that no tennis player will be fighting to survive, even those who are much lower-ranked,\" said the Austrian.Marion Bartoli, the 2013 Wimbledon champion, chimed in last week by suggesting a reduction in doubles events with prize money diverted to struggling players.\"You just don't make the same effort (in doubles) as a singles player. The United States Tennis Association will decide in mid-June on the US Open in New York.AFP Sport looks at three talking points as the sport heads into June:Fans in or out at US Open and Roland Garros?In 2019, the US Open attracted a record crowd of almost 740,000 to its sprawling Billie Jean King Tennis Centre in New York.The French Open last year at Roland Garros brought in 520,000 paying customers.However, the 2020 editions of the two remaining Grand Slam events on the calendar will look very different with the chance of them being played behind closed doors a real possibility to avoid the spread of the coronavirus.Roger Federer, whose 20-Grand Slam title haul includes five titles at the US Open and one in Paris, is not keen on seeing rows and rows of empty seats.\"I can't bear to see an empty stadium\n",
            "Summarize Text: \n",
            " Nadal slid out to his forehand side and short-hopped hard-hit balls into the open court. Unlike like most of his colleagues, Rafa didn?t play exhibition events during the lockdown, even those in his home country\n",
            "Summarize Text: \n",
            " Thiem and Zverev are 27 and 23, but it felt like they were making a debut in New York.And thats how the match itself felt: Like two guys, for all of their skill on a tennis court, who were trying to do something they had never done before.The favorite, Thiem, was a nervous wreck to start. On Sunday, with the Big 3 away, the Austrian and the German had the best chance they would ever have to put childish things away and leave their cant win the big one reputations behind.So how did they do? Did they pass the audition? We can start by saying that Thiem and Zverev made the most of their time on the stage if anything, thats an understatement\n",
            "Summarize Text: \n",
            " Will he be scarred by the Open experience, or motivated to leave it behind and stop Nadal from moving farther ahead of him in the Slam chase in Paris? The first seed Djokovic could face is Felix Auger-Aliassime. The bad news it that she has struggled so far in the reopening, losing in the first round at the Western and Southern Open and the second round at the US Open\n",
            "Summarize Text: \n",
            " The set was his, and for all intents and purposes, so was the match.Usually, hes very aggressive, Medvedev said of Rublev, but today he was trying to put the ball in the court more. At 4-6, Medvedev went bigger-than-normal again with his serve and won the point with it\n",
            "Summarize Text: \n",
            " When it came to forecasting the long-term future of the mens game, some of the smart money seemed to have moved from Auger-Aliassime to Italian teenager Jannik Sinner.Its also fair to say that, with his thoroughly convincing 6-2, 6-3, 6-4 win over Andy Murray at the US Open in Thursday, FAA answered a lot of questions, and allayed a lot of doubts. Murray spent most of the first two sets trapped well behind the baseline, doing his best to fend off and redirect FAAs blasts\n",
            "Summarize Text: \n",
            " If Kvitova wants peace and quiet, she can find a lot of it in the bubble.Is this, by itself, a reason to believe that Kvitova can make it past the quarterfinals in New York for the first time, and win the whole tournament? Probably not. Each also has a win over Kvitova at a major\n"
          ],
          "name": "stdout"
        }
      ]
    }
  ]
}